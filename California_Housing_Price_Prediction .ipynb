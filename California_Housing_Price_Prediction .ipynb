{
 "cells": [
  {
   "cell_type": "markdown",
   "id": "c3c1975d",
   "metadata": {},
   "source": [
    "# Name - Ravada Pavan kumar (2021CHE2560)\n"
   ]
  },
  {
   "cell_type": "code",
   "execution_count": 1,
   "id": "8c8399c7",
   "metadata": {},
   "outputs": [],
   "source": [
    "import pandas as pd\n",
    "import numpy as np\n",
    "import matplotlib.pyplot as plt\n",
    "import seaborn as sns"
   ]
  },
  {
   "cell_type": "code",
   "execution_count": 2,
   "id": "f0002e7d",
   "metadata": {},
   "outputs": [],
   "source": [
    "data = pd.read_csv(r\"C:\\Users\\nsg\\Downloads\\housing.csv.zip\")"
   ]
  },
  {
   "cell_type": "code",
   "execution_count": 3,
   "id": "4dd964c2",
   "metadata": {},
   "outputs": [
    {
     "data": {
      "text/html": [
       "<div>\n",
       "<style scoped>\n",
       "    .dataframe tbody tr th:only-of-type {\n",
       "        vertical-align: middle;\n",
       "    }\n",
       "\n",
       "    .dataframe tbody tr th {\n",
       "        vertical-align: top;\n",
       "    }\n",
       "\n",
       "    .dataframe thead th {\n",
       "        text-align: right;\n",
       "    }\n",
       "</style>\n",
       "<table border=\"1\" class=\"dataframe\">\n",
       "  <thead>\n",
       "    <tr style=\"text-align: right;\">\n",
       "      <th></th>\n",
       "      <th>longitude</th>\n",
       "      <th>latitude</th>\n",
       "      <th>housing_median_age</th>\n",
       "      <th>total_rooms</th>\n",
       "      <th>total_bedrooms</th>\n",
       "      <th>population</th>\n",
       "      <th>households</th>\n",
       "      <th>median_income</th>\n",
       "      <th>median_house_value</th>\n",
       "      <th>ocean_proximity</th>\n",
       "    </tr>\n",
       "  </thead>\n",
       "  <tbody>\n",
       "    <tr>\n",
       "      <th>0</th>\n",
       "      <td>-122.23</td>\n",
       "      <td>37.88</td>\n",
       "      <td>41.0</td>\n",
       "      <td>880.0</td>\n",
       "      <td>129.0</td>\n",
       "      <td>322.0</td>\n",
       "      <td>126.0</td>\n",
       "      <td>8.3252</td>\n",
       "      <td>452600.0</td>\n",
       "      <td>NEAR BAY</td>\n",
       "    </tr>\n",
       "    <tr>\n",
       "      <th>1</th>\n",
       "      <td>-122.22</td>\n",
       "      <td>37.86</td>\n",
       "      <td>21.0</td>\n",
       "      <td>7099.0</td>\n",
       "      <td>1106.0</td>\n",
       "      <td>2401.0</td>\n",
       "      <td>1138.0</td>\n",
       "      <td>8.3014</td>\n",
       "      <td>358500.0</td>\n",
       "      <td>NEAR BAY</td>\n",
       "    </tr>\n",
       "    <tr>\n",
       "      <th>2</th>\n",
       "      <td>-122.24</td>\n",
       "      <td>37.85</td>\n",
       "      <td>52.0</td>\n",
       "      <td>1467.0</td>\n",
       "      <td>190.0</td>\n",
       "      <td>496.0</td>\n",
       "      <td>177.0</td>\n",
       "      <td>7.2574</td>\n",
       "      <td>352100.0</td>\n",
       "      <td>NEAR BAY</td>\n",
       "    </tr>\n",
       "    <tr>\n",
       "      <th>3</th>\n",
       "      <td>-122.25</td>\n",
       "      <td>37.85</td>\n",
       "      <td>52.0</td>\n",
       "      <td>1274.0</td>\n",
       "      <td>235.0</td>\n",
       "      <td>558.0</td>\n",
       "      <td>219.0</td>\n",
       "      <td>5.6431</td>\n",
       "      <td>341300.0</td>\n",
       "      <td>NEAR BAY</td>\n",
       "    </tr>\n",
       "    <tr>\n",
       "      <th>4</th>\n",
       "      <td>-122.25</td>\n",
       "      <td>37.85</td>\n",
       "      <td>52.0</td>\n",
       "      <td>1627.0</td>\n",
       "      <td>280.0</td>\n",
       "      <td>565.0</td>\n",
       "      <td>259.0</td>\n",
       "      <td>3.8462</td>\n",
       "      <td>342200.0</td>\n",
       "      <td>NEAR BAY</td>\n",
       "    </tr>\n",
       "  </tbody>\n",
       "</table>\n",
       "</div>"
      ],
      "text/plain": [
       "   longitude  latitude  housing_median_age  total_rooms  total_bedrooms  \\\n",
       "0    -122.23     37.88                41.0        880.0           129.0   \n",
       "1    -122.22     37.86                21.0       7099.0          1106.0   \n",
       "2    -122.24     37.85                52.0       1467.0           190.0   \n",
       "3    -122.25     37.85                52.0       1274.0           235.0   \n",
       "4    -122.25     37.85                52.0       1627.0           280.0   \n",
       "\n",
       "   population  households  median_income  median_house_value ocean_proximity  \n",
       "0       322.0       126.0         8.3252            452600.0        NEAR BAY  \n",
       "1      2401.0      1138.0         8.3014            358500.0        NEAR BAY  \n",
       "2       496.0       177.0         7.2574            352100.0        NEAR BAY  \n",
       "3       558.0       219.0         5.6431            341300.0        NEAR BAY  \n",
       "4       565.0       259.0         3.8462            342200.0        NEAR BAY  "
      ]
     },
     "execution_count": 3,
     "metadata": {},
     "output_type": "execute_result"
    }
   ],
   "source": [
    "data.head()"
   ]
  },
  {
   "cell_type": "code",
   "execution_count": 4,
   "id": "1209b798",
   "metadata": {},
   "outputs": [
    {
     "name": "stdout",
     "output_type": "stream",
     "text": [
      "<class 'pandas.core.frame.DataFrame'>\n",
      "RangeIndex: 20640 entries, 0 to 20639\n",
      "Data columns (total 10 columns):\n",
      " #   Column              Non-Null Count  Dtype  \n",
      "---  ------              --------------  -----  \n",
      " 0   longitude           20640 non-null  float64\n",
      " 1   latitude            20640 non-null  float64\n",
      " 2   housing_median_age  20640 non-null  float64\n",
      " 3   total_rooms         20640 non-null  float64\n",
      " 4   total_bedrooms      20433 non-null  float64\n",
      " 5   population          20640 non-null  float64\n",
      " 6   households          20640 non-null  float64\n",
      " 7   median_income       20640 non-null  float64\n",
      " 8   median_house_value  20640 non-null  float64\n",
      " 9   ocean_proximity     20640 non-null  object \n",
      "dtypes: float64(9), object(1)\n",
      "memory usage: 1.6+ MB\n"
     ]
    }
   ],
   "source": [
    "data.info()"
   ]
  },
  {
   "cell_type": "code",
   "execution_count": 5,
   "id": "f87c60b8",
   "metadata": {},
   "outputs": [
    {
     "data": {
      "text/html": [
       "<div>\n",
       "<style scoped>\n",
       "    .dataframe tbody tr th:only-of-type {\n",
       "        vertical-align: middle;\n",
       "    }\n",
       "\n",
       "    .dataframe tbody tr th {\n",
       "        vertical-align: top;\n",
       "    }\n",
       "\n",
       "    .dataframe thead th {\n",
       "        text-align: right;\n",
       "    }\n",
       "</style>\n",
       "<table border=\"1\" class=\"dataframe\">\n",
       "  <thead>\n",
       "    <tr style=\"text-align: right;\">\n",
       "      <th></th>\n",
       "      <th>longitude</th>\n",
       "      <th>latitude</th>\n",
       "      <th>housing_median_age</th>\n",
       "      <th>total_rooms</th>\n",
       "      <th>total_bedrooms</th>\n",
       "      <th>population</th>\n",
       "      <th>households</th>\n",
       "      <th>median_income</th>\n",
       "      <th>median_house_value</th>\n",
       "    </tr>\n",
       "  </thead>\n",
       "  <tbody>\n",
       "    <tr>\n",
       "      <th>count</th>\n",
       "      <td>20640.000000</td>\n",
       "      <td>20640.000000</td>\n",
       "      <td>20640.000000</td>\n",
       "      <td>20640.000000</td>\n",
       "      <td>20433.000000</td>\n",
       "      <td>20640.000000</td>\n",
       "      <td>20640.000000</td>\n",
       "      <td>20640.000000</td>\n",
       "      <td>20640.000000</td>\n",
       "    </tr>\n",
       "    <tr>\n",
       "      <th>mean</th>\n",
       "      <td>-119.569704</td>\n",
       "      <td>35.631861</td>\n",
       "      <td>28.639486</td>\n",
       "      <td>2635.763081</td>\n",
       "      <td>537.870553</td>\n",
       "      <td>1425.476744</td>\n",
       "      <td>499.539680</td>\n",
       "      <td>3.870671</td>\n",
       "      <td>206855.816909</td>\n",
       "    </tr>\n",
       "    <tr>\n",
       "      <th>std</th>\n",
       "      <td>2.003532</td>\n",
       "      <td>2.135952</td>\n",
       "      <td>12.585558</td>\n",
       "      <td>2181.615252</td>\n",
       "      <td>421.385070</td>\n",
       "      <td>1132.462122</td>\n",
       "      <td>382.329753</td>\n",
       "      <td>1.899822</td>\n",
       "      <td>115395.615874</td>\n",
       "    </tr>\n",
       "    <tr>\n",
       "      <th>min</th>\n",
       "      <td>-124.350000</td>\n",
       "      <td>32.540000</td>\n",
       "      <td>1.000000</td>\n",
       "      <td>2.000000</td>\n",
       "      <td>1.000000</td>\n",
       "      <td>3.000000</td>\n",
       "      <td>1.000000</td>\n",
       "      <td>0.499900</td>\n",
       "      <td>14999.000000</td>\n",
       "    </tr>\n",
       "    <tr>\n",
       "      <th>25%</th>\n",
       "      <td>-121.800000</td>\n",
       "      <td>33.930000</td>\n",
       "      <td>18.000000</td>\n",
       "      <td>1447.750000</td>\n",
       "      <td>296.000000</td>\n",
       "      <td>787.000000</td>\n",
       "      <td>280.000000</td>\n",
       "      <td>2.563400</td>\n",
       "      <td>119600.000000</td>\n",
       "    </tr>\n",
       "    <tr>\n",
       "      <th>50%</th>\n",
       "      <td>-118.490000</td>\n",
       "      <td>34.260000</td>\n",
       "      <td>29.000000</td>\n",
       "      <td>2127.000000</td>\n",
       "      <td>435.000000</td>\n",
       "      <td>1166.000000</td>\n",
       "      <td>409.000000</td>\n",
       "      <td>3.534800</td>\n",
       "      <td>179700.000000</td>\n",
       "    </tr>\n",
       "    <tr>\n",
       "      <th>75%</th>\n",
       "      <td>-118.010000</td>\n",
       "      <td>37.710000</td>\n",
       "      <td>37.000000</td>\n",
       "      <td>3148.000000</td>\n",
       "      <td>647.000000</td>\n",
       "      <td>1725.000000</td>\n",
       "      <td>605.000000</td>\n",
       "      <td>4.743250</td>\n",
       "      <td>264725.000000</td>\n",
       "    </tr>\n",
       "    <tr>\n",
       "      <th>max</th>\n",
       "      <td>-114.310000</td>\n",
       "      <td>41.950000</td>\n",
       "      <td>52.000000</td>\n",
       "      <td>39320.000000</td>\n",
       "      <td>6445.000000</td>\n",
       "      <td>35682.000000</td>\n",
       "      <td>6082.000000</td>\n",
       "      <td>15.000100</td>\n",
       "      <td>500001.000000</td>\n",
       "    </tr>\n",
       "  </tbody>\n",
       "</table>\n",
       "</div>"
      ],
      "text/plain": [
       "          longitude      latitude  housing_median_age   total_rooms  \\\n",
       "count  20640.000000  20640.000000        20640.000000  20640.000000   \n",
       "mean    -119.569704     35.631861           28.639486   2635.763081   \n",
       "std        2.003532      2.135952           12.585558   2181.615252   \n",
       "min     -124.350000     32.540000            1.000000      2.000000   \n",
       "25%     -121.800000     33.930000           18.000000   1447.750000   \n",
       "50%     -118.490000     34.260000           29.000000   2127.000000   \n",
       "75%     -118.010000     37.710000           37.000000   3148.000000   \n",
       "max     -114.310000     41.950000           52.000000  39320.000000   \n",
       "\n",
       "       total_bedrooms    population    households  median_income  \\\n",
       "count    20433.000000  20640.000000  20640.000000   20640.000000   \n",
       "mean       537.870553   1425.476744    499.539680       3.870671   \n",
       "std        421.385070   1132.462122    382.329753       1.899822   \n",
       "min          1.000000      3.000000      1.000000       0.499900   \n",
       "25%        296.000000    787.000000    280.000000       2.563400   \n",
       "50%        435.000000   1166.000000    409.000000       3.534800   \n",
       "75%        647.000000   1725.000000    605.000000       4.743250   \n",
       "max       6445.000000  35682.000000   6082.000000      15.000100   \n",
       "\n",
       "       median_house_value  \n",
       "count        20640.000000  \n",
       "mean        206855.816909  \n",
       "std         115395.615874  \n",
       "min          14999.000000  \n",
       "25%         119600.000000  \n",
       "50%         179700.000000  \n",
       "75%         264725.000000  \n",
       "max         500001.000000  "
      ]
     },
     "execution_count": 5,
     "metadata": {},
     "output_type": "execute_result"
    }
   ],
   "source": [
    "data.describe()"
   ]
  },
  {
   "cell_type": "markdown",
   "id": "af1ad20e",
   "metadata": {},
   "source": [
    "# check for null values"
   ]
  },
  {
   "cell_type": "code",
   "execution_count": 6,
   "id": "4c6d92e1",
   "metadata": {},
   "outputs": [
    {
     "data": {
      "text/plain": [
       "longitude               0\n",
       "latitude                0\n",
       "housing_median_age      0\n",
       "total_rooms             0\n",
       "total_bedrooms        207\n",
       "population              0\n",
       "households              0\n",
       "median_income           0\n",
       "median_house_value      0\n",
       "ocean_proximity         0\n",
       "dtype: int64"
      ]
     },
     "execution_count": 6,
     "metadata": {},
     "output_type": "execute_result"
    }
   ],
   "source": [
    "data.isnull().sum()"
   ]
  },
  {
   "cell_type": "code",
   "execution_count": 7,
   "id": "ba75bcc2",
   "metadata": {},
   "outputs": [],
   "source": [
    "null_data=data.isnull().sum().to_dict()"
   ]
  },
  {
   "cell_type": "code",
   "execution_count": 8,
   "id": "26740017",
   "metadata": {},
   "outputs": [],
   "source": [
    "xVal = null_data.keys()\n",
    "yVal = null_data.values()"
   ]
  },
  {
   "cell_type": "code",
   "execution_count": 9,
   "id": "744ec98b",
   "metadata": {},
   "outputs": [
    {
     "data": {
      "image/png": "[encoded data removed]",
      "text/plain": [
       "<Figure size 2736x936 with 1 Axes>"
      ]
     },
     "metadata": {
      "needs_background": "light"
     },
     "output_type": "display_data"
    }
   ],
   "source": [
    "fig = plt.figure(figsize=(38,13))\n",
    "plt.bar(xVal,yVal)\n",
    "plt.show()"
   ]
  },
  {
   "cell_type": "markdown",
   "id": "a76e6462",
   "metadata": {},
   "source": [
    "We can see that the column total_bedrooms has 207 null values"
   ]
  },
  {
   "cell_type": "code",
   "execution_count": 10,
   "id": "e1785c2d",
   "metadata": {},
   "outputs": [
    {
     "data": {
      "image/png": "[encoded data removed]",
      "text/plain": [
       "<Figure size 1440x720 with 2 Axes>"
      ]
     },
     "metadata": {
      "needs_background": "light"
     },
     "output_type": "display_data"
    }
   ],
   "source": [
    "# check nan values\n",
    "transposed_data = data.transpose().isna()\n",
    "fig, ax = plt.subplots(figsize = (20,10))\n",
    "sns.heatmap(transposed_data, ax = ax, cmap = \"viridis\")\n",
    "plt.show()"
   ]
  },
  {
   "cell_type": "markdown",
   "id": "7e1d6ac7",
   "metadata": {},
   "source": [
    "# Handling null values"
   ]
  },
  {
   "cell_type": "code",
   "execution_count": 11,
   "id": "b0e5c251",
   "metadata": {},
   "outputs": [
    {
     "data": {
      "text/html": [
       "<div>\n",
       "<style scoped>\n",
       "    .dataframe tbody tr th:only-of-type {\n",
       "        vertical-align: middle;\n",
       "    }\n",
       "\n",
       "    .dataframe tbody tr th {\n",
       "        vertical-align: top;\n",
       "    }\n",
       "\n",
       "    .dataframe thead th {\n",
       "        text-align: right;\n",
       "    }\n",
       "</style>\n",
       "<table border=\"1\" class=\"dataframe\">\n",
       "  <thead>\n",
       "    <tr style=\"text-align: right;\">\n",
       "      <th></th>\n",
       "      <th>longitude</th>\n",
       "      <th>latitude</th>\n",
       "      <th>housing_median_age</th>\n",
       "      <th>total_rooms</th>\n",
       "      <th>total_bedrooms</th>\n",
       "      <th>population</th>\n",
       "      <th>households</th>\n",
       "      <th>median_income</th>\n",
       "      <th>median_house_value</th>\n",
       "    </tr>\n",
       "  </thead>\n",
       "  <tbody>\n",
       "    <tr>\n",
       "      <th>0</th>\n",
       "      <td>-122.23</td>\n",
       "      <td>37.88</td>\n",
       "      <td>41.0</td>\n",
       "      <td>880.0</td>\n",
       "      <td>129.0</td>\n",
       "      <td>322.0</td>\n",
       "      <td>126.0</td>\n",
       "      <td>8.3252</td>\n",
       "      <td>452600.0</td>\n",
       "    </tr>\n",
       "    <tr>\n",
       "      <th>1</th>\n",
       "      <td>-122.22</td>\n",
       "      <td>37.86</td>\n",
       "      <td>21.0</td>\n",
       "      <td>7099.0</td>\n",
       "      <td>1106.0</td>\n",
       "      <td>2401.0</td>\n",
       "      <td>1138.0</td>\n",
       "      <td>8.3014</td>\n",
       "      <td>358500.0</td>\n",
       "    </tr>\n",
       "    <tr>\n",
       "      <th>2</th>\n",
       "      <td>-122.24</td>\n",
       "      <td>37.85</td>\n",
       "      <td>52.0</td>\n",
       "      <td>1467.0</td>\n",
       "      <td>190.0</td>\n",
       "      <td>496.0</td>\n",
       "      <td>177.0</td>\n",
       "      <td>7.2574</td>\n",
       "      <td>352100.0</td>\n",
       "    </tr>\n",
       "    <tr>\n",
       "      <th>3</th>\n",
       "      <td>-122.25</td>\n",
       "      <td>37.85</td>\n",
       "      <td>52.0</td>\n",
       "      <td>1274.0</td>\n",
       "      <td>235.0</td>\n",
       "      <td>558.0</td>\n",
       "      <td>219.0</td>\n",
       "      <td>5.6431</td>\n",
       "      <td>341300.0</td>\n",
       "    </tr>\n",
       "    <tr>\n",
       "      <th>4</th>\n",
       "      <td>-122.25</td>\n",
       "      <td>37.85</td>\n",
       "      <td>52.0</td>\n",
       "      <td>1627.0</td>\n",
       "      <td>280.0</td>\n",
       "      <td>565.0</td>\n",
       "      <td>259.0</td>\n",
       "      <td>3.8462</td>\n",
       "      <td>342200.0</td>\n",
       "    </tr>\n",
       "    <tr>\n",
       "      <th>...</th>\n",
       "      <td>...</td>\n",
       "      <td>...</td>\n",
       "      <td>...</td>\n",
       "      <td>...</td>\n",
       "      <td>...</td>\n",
       "      <td>...</td>\n",
       "      <td>...</td>\n",
       "      <td>...</td>\n",
       "      <td>...</td>\n",
       "    </tr>\n",
       "    <tr>\n",
       "      <th>20635</th>\n",
       "      <td>-121.09</td>\n",
       "      <td>39.48</td>\n",
       "      <td>25.0</td>\n",
       "      <td>1665.0</td>\n",
       "      <td>374.0</td>\n",
       "      <td>845.0</td>\n",
       "      <td>330.0</td>\n",
       "      <td>1.5603</td>\n",
       "      <td>78100.0</td>\n",
       "    </tr>\n",
       "    <tr>\n",
       "      <th>20636</th>\n",
       "      <td>-121.21</td>\n",
       "      <td>39.49</td>\n",
       "      <td>18.0</td>\n",
       "      <td>697.0</td>\n",
       "      <td>150.0</td>\n",
       "      <td>356.0</td>\n",
       "      <td>114.0</td>\n",
       "      <td>2.5568</td>\n",
       "      <td>77100.0</td>\n",
       "    </tr>\n",
       "    <tr>\n",
       "      <th>20637</th>\n",
       "      <td>-121.22</td>\n",
       "      <td>39.43</td>\n",
       "      <td>17.0</td>\n",
       "      <td>2254.0</td>\n",
       "      <td>485.0</td>\n",
       "      <td>1007.0</td>\n",
       "      <td>433.0</td>\n",
       "      <td>1.7000</td>\n",
       "      <td>92300.0</td>\n",
       "    </tr>\n",
       "    <tr>\n",
       "      <th>20638</th>\n",
       "      <td>-121.32</td>\n",
       "      <td>39.43</td>\n",
       "      <td>18.0</td>\n",
       "      <td>1860.0</td>\n",
       "      <td>409.0</td>\n",
       "      <td>741.0</td>\n",
       "      <td>349.0</td>\n",
       "      <td>1.8672</td>\n",
       "      <td>84700.0</td>\n",
       "    </tr>\n",
       "    <tr>\n",
       "      <th>20639</th>\n",
       "      <td>-121.24</td>\n",
       "      <td>39.37</td>\n",
       "      <td>16.0</td>\n",
       "      <td>2785.0</td>\n",
       "      <td>616.0</td>\n",
       "      <td>1387.0</td>\n",
       "      <td>530.0</td>\n",
       "      <td>2.3886</td>\n",
       "      <td>89400.0</td>\n",
       "    </tr>\n",
       "  </tbody>\n",
       "</table>\n",
       "<p>20640 rows × 9 columns</p>\n",
       "</div>"
      ],
      "text/plain": [
       "       longitude  latitude  housing_median_age  total_rooms  total_bedrooms  \\\n",
       "0        -122.23     37.88                41.0        880.0           129.0   \n",
       "1        -122.22     37.86                21.0       7099.0          1106.0   \n",
       "2        -122.24     37.85                52.0       1467.0           190.0   \n",
       "3        -122.25     37.85                52.0       1274.0           235.0   \n",
       "4        -122.25     37.85                52.0       1627.0           280.0   \n",
       "...          ...       ...                 ...          ...             ...   \n",
       "20635    -121.09     39.48                25.0       1665.0           374.0   \n",
       "20636    -121.21     39.49                18.0        697.0           150.0   \n",
       "20637    -121.22     39.43                17.0       2254.0           485.0   \n",
       "20638    -121.32     39.43                18.0       1860.0           409.0   \n",
       "20639    -121.24     39.37                16.0       2785.0           616.0   \n",
       "\n",
       "       population  households  median_income  median_house_value  \n",
       "0           322.0       126.0         8.3252            452600.0  \n",
       "1          2401.0      1138.0         8.3014            358500.0  \n",
       "2           496.0       177.0         7.2574            352100.0  \n",
       "3           558.0       219.0         5.6431            341300.0  \n",
       "4           565.0       259.0         3.8462            342200.0  \n",
       "...           ...         ...            ...                 ...  \n",
       "20635       845.0       330.0         1.5603             78100.0  \n",
       "20636       356.0       114.0         2.5568             77100.0  \n",
       "20637      1007.0       433.0         1.7000             92300.0  \n",
       "20638       741.0       349.0         1.8672             84700.0  \n",
       "20639      1387.0       530.0         2.3886             89400.0  \n",
       "\n",
       "[20640 rows x 9 columns]"
      ]
     },
     "execution_count": 11,
     "metadata": {},
     "output_type": "execute_result"
    }
   ],
   "source": [
    "data_n=data.drop(['ocean_proximity'], axis=1)\n",
    "data_n"
   ]
  },
  {
   "cell_type": "code",
   "execution_count": 12,
   "id": "e295c920",
   "metadata": {},
   "outputs": [
    {
     "data": {
      "text/plain": [
       "longitude               0\n",
       "latitude                0\n",
       "housing_median_age      0\n",
       "total_rooms             0\n",
       "total_bedrooms        207\n",
       "population              0\n",
       "households              0\n",
       "median_income           0\n",
       "median_house_value      0\n",
       "dtype: int64"
      ]
     },
     "execution_count": 12,
     "metadata": {},
     "output_type": "execute_result"
    }
   ],
   "source": [
    "data_n.isnull().sum()"
   ]
  },
  {
   "cell_type": "code",
   "execution_count": 13,
   "id": "a37baa72",
   "metadata": {},
   "outputs": [
    {
     "data": {
      "text/html": [
       "<div>\n",
       "<style scoped>\n",
       "    .dataframe tbody tr th:only-of-type {\n",
       "        vertical-align: middle;\n",
       "    }\n",
       "\n",
       "    .dataframe tbody tr th {\n",
       "        vertical-align: top;\n",
       "    }\n",
       "\n",
       "    .dataframe thead th {\n",
       "        text-align: right;\n",
       "    }\n",
       "</style>\n",
       "<table border=\"1\" class=\"dataframe\">\n",
       "  <thead>\n",
       "    <tr style=\"text-align: right;\">\n",
       "      <th></th>\n",
       "      <th>longitude</th>\n",
       "      <th>latitude</th>\n",
       "      <th>housing_median_age</th>\n",
       "      <th>total_rooms</th>\n",
       "      <th>total_bedrooms</th>\n",
       "      <th>population</th>\n",
       "      <th>households</th>\n",
       "      <th>median_income</th>\n",
       "      <th>median_house_value</th>\n",
       "    </tr>\n",
       "  </thead>\n",
       "  <tbody>\n",
       "    <tr>\n",
       "      <th>0</th>\n",
       "      <td>-1.327835</td>\n",
       "      <td>1.052548</td>\n",
       "      <td>0.982143</td>\n",
       "      <td>-0.804819</td>\n",
       "      <td>-0.970325</td>\n",
       "      <td>-0.974429</td>\n",
       "      <td>-0.977033</td>\n",
       "      <td>2.344766</td>\n",
       "      <td>2.129631</td>\n",
       "    </tr>\n",
       "    <tr>\n",
       "      <th>1</th>\n",
       "      <td>-1.322844</td>\n",
       "      <td>1.043185</td>\n",
       "      <td>-0.607019</td>\n",
       "      <td>2.045890</td>\n",
       "      <td>1.348276</td>\n",
       "      <td>0.861439</td>\n",
       "      <td>1.669961</td>\n",
       "      <td>2.332238</td>\n",
       "      <td>1.314156</td>\n",
       "    </tr>\n",
       "    <tr>\n",
       "      <th>2</th>\n",
       "      <td>-1.332827</td>\n",
       "      <td>1.038503</td>\n",
       "      <td>1.856182</td>\n",
       "      <td>-0.535746</td>\n",
       "      <td>-0.825561</td>\n",
       "      <td>-0.820777</td>\n",
       "      <td>-0.843637</td>\n",
       "      <td>1.782699</td>\n",
       "      <td>1.258693</td>\n",
       "    </tr>\n",
       "    <tr>\n",
       "      <th>3</th>\n",
       "      <td>-1.337818</td>\n",
       "      <td>1.038503</td>\n",
       "      <td>1.856182</td>\n",
       "      <td>-0.624215</td>\n",
       "      <td>-0.718768</td>\n",
       "      <td>-0.766028</td>\n",
       "      <td>-0.733781</td>\n",
       "      <td>0.932968</td>\n",
       "      <td>1.165100</td>\n",
       "    </tr>\n",
       "    <tr>\n",
       "      <th>4</th>\n",
       "      <td>-1.337818</td>\n",
       "      <td>1.038503</td>\n",
       "      <td>1.856182</td>\n",
       "      <td>-0.462404</td>\n",
       "      <td>-0.611974</td>\n",
       "      <td>-0.759847</td>\n",
       "      <td>-0.629157</td>\n",
       "      <td>-0.012881</td>\n",
       "      <td>1.172900</td>\n",
       "    </tr>\n",
       "    <tr>\n",
       "      <th>...</th>\n",
       "      <td>...</td>\n",
       "      <td>...</td>\n",
       "      <td>...</td>\n",
       "      <td>...</td>\n",
       "      <td>...</td>\n",
       "      <td>...</td>\n",
       "      <td>...</td>\n",
       "      <td>...</td>\n",
       "      <td>...</td>\n",
       "    </tr>\n",
       "    <tr>\n",
       "      <th>20635</th>\n",
       "      <td>-0.758826</td>\n",
       "      <td>1.801647</td>\n",
       "      <td>-0.289187</td>\n",
       "      <td>-0.444985</td>\n",
       "      <td>-0.388895</td>\n",
       "      <td>-0.512592</td>\n",
       "      <td>-0.443449</td>\n",
       "      <td>-1.216128</td>\n",
       "      <td>-1.115804</td>\n",
       "    </tr>\n",
       "    <tr>\n",
       "      <th>20636</th>\n",
       "      <td>-0.818722</td>\n",
       "      <td>1.806329</td>\n",
       "      <td>-0.845393</td>\n",
       "      <td>-0.888704</td>\n",
       "      <td>-0.920488</td>\n",
       "      <td>-0.944405</td>\n",
       "      <td>-1.008420</td>\n",
       "      <td>-0.691593</td>\n",
       "      <td>-1.124470</td>\n",
       "    </tr>\n",
       "    <tr>\n",
       "      <th>20637</th>\n",
       "      <td>-0.823713</td>\n",
       "      <td>1.778237</td>\n",
       "      <td>-0.924851</td>\n",
       "      <td>-0.174995</td>\n",
       "      <td>-0.125472</td>\n",
       "      <td>-0.369537</td>\n",
       "      <td>-0.174042</td>\n",
       "      <td>-1.142593</td>\n",
       "      <td>-0.992746</td>\n",
       "    </tr>\n",
       "    <tr>\n",
       "      <th>20638</th>\n",
       "      <td>-0.873626</td>\n",
       "      <td>1.778237</td>\n",
       "      <td>-0.845393</td>\n",
       "      <td>-0.355600</td>\n",
       "      <td>-0.305834</td>\n",
       "      <td>-0.604429</td>\n",
       "      <td>-0.393753</td>\n",
       "      <td>-1.054583</td>\n",
       "      <td>-1.058608</td>\n",
       "    </tr>\n",
       "    <tr>\n",
       "      <th>20639</th>\n",
       "      <td>-0.833696</td>\n",
       "      <td>1.750146</td>\n",
       "      <td>-1.004309</td>\n",
       "      <td>0.068408</td>\n",
       "      <td>0.185416</td>\n",
       "      <td>-0.033977</td>\n",
       "      <td>0.079672</td>\n",
       "      <td>-0.780129</td>\n",
       "      <td>-1.017878</td>\n",
       "    </tr>\n",
       "  </tbody>\n",
       "</table>\n",
       "<p>20640 rows × 9 columns</p>\n",
       "</div>"
      ],
      "text/plain": [
       "       longitude  latitude  housing_median_age  total_rooms  total_bedrooms  \\\n",
       "0      -1.327835  1.052548            0.982143    -0.804819       -0.970325   \n",
       "1      -1.322844  1.043185           -0.607019     2.045890        1.348276   \n",
       "2      -1.332827  1.038503            1.856182    -0.535746       -0.825561   \n",
       "3      -1.337818  1.038503            1.856182    -0.624215       -0.718768   \n",
       "4      -1.337818  1.038503            1.856182    -0.462404       -0.611974   \n",
       "...          ...       ...                 ...          ...             ...   \n",
       "20635  -0.758826  1.801647           -0.289187    -0.444985       -0.388895   \n",
       "20636  -0.818722  1.806329           -0.845393    -0.888704       -0.920488   \n",
       "20637  -0.823713  1.778237           -0.924851    -0.174995       -0.125472   \n",
       "20638  -0.873626  1.778237           -0.845393    -0.355600       -0.305834   \n",
       "20639  -0.833696  1.750146           -1.004309     0.068408        0.185416   \n",
       "\n",
       "       population  households  median_income  median_house_value  \n",
       "0       -0.974429   -0.977033       2.344766            2.129631  \n",
       "1        0.861439    1.669961       2.332238            1.314156  \n",
       "2       -0.820777   -0.843637       1.782699            1.258693  \n",
       "3       -0.766028   -0.733781       0.932968            1.165100  \n",
       "4       -0.759847   -0.629157      -0.012881            1.172900  \n",
       "...           ...         ...            ...                 ...  \n",
       "20635   -0.512592   -0.443449      -1.216128           -1.115804  \n",
       "20636   -0.944405   -1.008420      -0.691593           -1.124470  \n",
       "20637   -0.369537   -0.174042      -1.142593           -0.992746  \n",
       "20638   -0.604429   -0.393753      -1.054583           -1.058608  \n",
       "20639   -0.033977    0.079672      -0.780129           -1.017878  \n",
       "\n",
       "[20640 rows x 9 columns]"
      ]
     },
     "execution_count": 13,
     "metadata": {},
     "output_type": "execute_result"
    }
   ],
   "source": [
    "from sklearn.preprocessing import StandardScaler\n",
    "scaler = StandardScaler()\n",
    "data_scaled = pd.DataFrame(StandardScaler().fit_transform(data_n), columns=data_n.columns, index=data_n.index)\n",
    "data_scaled"
   ]
  },
  {
   "cell_type": "markdown",
   "id": "b8147f73",
   "metadata": {},
   "source": [
    "Deleting the entire column"
   ]
  },
  {
   "cell_type": "code",
   "execution_count": 14,
   "id": "bd83f181",
   "metadata": {},
   "outputs": [
    {
     "name": "stdout",
     "output_type": "stream",
     "text": [
      "<class 'pandas.core.frame.DataFrame'>\n",
      "RangeIndex: 20640 entries, 0 to 20639\n",
      "Data columns (total 8 columns):\n",
      " #   Column              Non-Null Count  Dtype  \n",
      "---  ------              --------------  -----  \n",
      " 0   longitude           20640 non-null  float64\n",
      " 1   latitude            20640 non-null  float64\n",
      " 2   housing_median_age  20640 non-null  float64\n",
      " 3   total_rooms         20640 non-null  float64\n",
      " 4   population          20640 non-null  float64\n",
      " 5   households          20640 non-null  float64\n",
      " 6   median_income       20640 non-null  float64\n",
      " 7   median_house_value  20640 non-null  float64\n",
      "dtypes: float64(8)\n",
      "memory usage: 1.3 MB\n"
     ]
    }
   ],
   "source": [
    "data_1=data_scaled.dropna(axis=1)\n",
    "data_1.info()"
   ]
  },
  {
   "cell_type": "code",
   "execution_count": 15,
   "id": "9d0e6519",
   "metadata": {},
   "outputs": [
    {
     "name": "stderr",
     "output_type": "stream",
     "text": [
      "C:\\Users\\nsg\\anaconda3\\lib\\site-packages\\pandas\\core\\frame.py:4906: SettingWithCopyWarning: \n",
      "A value is trying to be set on a copy of a slice from a DataFrame\n",
      "\n",
      "See the caveats in the documentation: https://pandas.pydata.org/pandas-docs/stable/user_guide/indexing.html#returning-a-view-versus-a-copy\n",
      "  return super().drop(\n"
     ]
    },
    {
     "data": {
      "text/plain": [
       "0.6242738791397244"
      ]
     },
     "execution_count": 15,
     "metadata": {},
     "output_type": "execute_result"
    }
   ],
   "source": [
    "from sklearn import metrics\n",
    "from sklearn.model_selection import train_test_split\n",
    "y=data_1['median_house_value']\n",
    "data_1.drop('median_house_value',axis=1,inplace=True)\n",
    "x=data_1\n",
    "X_train, X_test,y_train,y_test = train_test_split(data_1,y,test_size=0.3)\n",
    "from sklearn.linear_model import LinearRegression \n",
    "lr=LinearRegression()\n",
    "lr.fit(X_train,y_train)\n",
    "y_pred=lr.predict(X_test)\n",
    "lr.score(X_test,y_test)"
   ]
  },
  {
   "cell_type": "markdown",
   "id": "86aa1fa4",
   "metadata": {},
   "source": [
    "Deleting the entire row (listwise deletion)"
   ]
  },
  {
   "cell_type": "code",
   "execution_count": 16,
   "id": "efd3f6a3",
   "metadata": {},
   "outputs": [
    {
     "name": "stdout",
     "output_type": "stream",
     "text": [
      "<class 'pandas.core.frame.DataFrame'>\n",
      "Int64Index: 20433 entries, 0 to 20639\n",
      "Data columns (total 9 columns):\n",
      " #   Column              Non-Null Count  Dtype  \n",
      "---  ------              --------------  -----  \n",
      " 0   longitude           20433 non-null  float64\n",
      " 1   latitude            20433 non-null  float64\n",
      " 2   housing_median_age  20433 non-null  float64\n",
      " 3   total_rooms         20433 non-null  float64\n",
      " 4   total_bedrooms      20433 non-null  float64\n",
      " 5   population          20433 non-null  float64\n",
      " 6   households          20433 non-null  float64\n",
      " 7   median_income       20433 non-null  float64\n",
      " 8   median_house_value  20433 non-null  float64\n",
      "dtypes: float64(9)\n",
      "memory usage: 1.6 MB\n"
     ]
    }
   ],
   "source": [
    "data_2=data_scaled.dropna(axis=0)\n",
    "data_2.info()"
   ]
  },
  {
   "cell_type": "code",
   "execution_count": 17,
   "id": "ec114752",
   "metadata": {},
   "outputs": [
    {
     "name": "stderr",
     "output_type": "stream",
     "text": [
      "C:\\Users\\nsg\\anaconda3\\lib\\site-packages\\pandas\\core\\frame.py:4906: SettingWithCopyWarning: \n",
      "A value is trying to be set on a copy of a slice from a DataFrame\n",
      "\n",
      "See the caveats in the documentation: https://pandas.pydata.org/pandas-docs/stable/user_guide/indexing.html#returning-a-view-versus-a-copy\n",
      "  return super().drop(\n"
     ]
    },
    {
     "data": {
      "text/plain": [
       "0.643386828060379"
      ]
     },
     "execution_count": 17,
     "metadata": {},
     "output_type": "execute_result"
    }
   ],
   "source": [
    "y=data_2['median_house_value']\n",
    "data_2.drop('median_house_value',axis=1,inplace=True)\n",
    "x=data_2\n",
    "X_train, X_test,y_train,y_test = train_test_split(data_2,y,test_size=0.3)\n",
    "lr=LinearRegression()\n",
    "lr.fit(X_train,y_train)\n",
    "y_pred=lr.predict(X_test)\n",
    "lr.score(X_test,y_test)"
   ]
  },
  {
   "cell_type": "markdown",
   "id": "5cbbd06f",
   "metadata": {},
   "source": [
    "Filling Missing values with mean"
   ]
  },
  {
   "cell_type": "code",
   "execution_count": 18,
   "id": "02ca3739",
   "metadata": {},
   "outputs": [
    {
     "name": "stdout",
     "output_type": "stream",
     "text": [
      "<class 'pandas.core.frame.DataFrame'>\n",
      "RangeIndex: 20640 entries, 0 to 20639\n",
      "Data columns (total 9 columns):\n",
      " #   Column              Non-Null Count  Dtype  \n",
      "---  ------              --------------  -----  \n",
      " 0   longitude           20640 non-null  float64\n",
      " 1   latitude            20640 non-null  float64\n",
      " 2   housing_median_age  20640 non-null  float64\n",
      " 3   total_rooms         20640 non-null  float64\n",
      " 4   total_bedrooms      20640 non-null  float64\n",
      " 5   population          20640 non-null  float64\n",
      " 6   households          20640 non-null  float64\n",
      " 7   median_income       20640 non-null  float64\n",
      " 8   median_house_value  20640 non-null  float64\n",
      "dtypes: float64(9)\n",
      "memory usage: 1.4 MB\n"
     ]
    }
   ],
   "source": [
    "data_3=data_scaled.fillna(data_scaled.mean(numeric_only=True))\n",
    "data_3.info()"
   ]
  },
  {
   "cell_type": "code",
   "execution_count": 19,
   "id": "f2ebbc6e",
   "metadata": {},
   "outputs": [
    {
     "data": {
      "text/plain": [
       "0.6453725884206877"
      ]
     },
     "execution_count": 19,
     "metadata": {},
     "output_type": "execute_result"
    }
   ],
   "source": [
    "y=data_3['median_house_value']\n",
    "data_3.drop('median_house_value',axis=1,inplace=True)\n",
    "x=data_3\n",
    "X_train, X_test,y_train,y_test = train_test_split(data_3,y,test_size=0.3)\n",
    "lr=LinearRegression()\n",
    "lr.fit(X_train,y_train)\n",
    "y_pred=lr.predict(X_test)\n",
    "lr.score(X_test,y_test)"
   ]
  },
  {
   "cell_type": "markdown",
   "id": "a703a8e0",
   "metadata": {},
   "source": [
    "Fill Missing Data With interpolate()"
   ]
  },
  {
   "cell_type": "code",
   "execution_count": 20,
   "id": "936328fb",
   "metadata": {},
   "outputs": [
    {
     "name": "stdout",
     "output_type": "stream",
     "text": [
      "<class 'pandas.core.frame.DataFrame'>\n",
      "RangeIndex: 20640 entries, 0 to 20639\n",
      "Data columns (total 9 columns):\n",
      " #   Column              Non-Null Count  Dtype  \n",
      "---  ------              --------------  -----  \n",
      " 0   longitude           20640 non-null  float64\n",
      " 1   latitude            20640 non-null  float64\n",
      " 2   housing_median_age  20640 non-null  float64\n",
      " 3   total_rooms         20640 non-null  float64\n",
      " 4   total_bedrooms      20640 non-null  float64\n",
      " 5   population          20640 non-null  float64\n",
      " 6   households          20640 non-null  float64\n",
      " 7   median_income       20640 non-null  float64\n",
      " 8   median_house_value  20640 non-null  float64\n",
      "dtypes: float64(9)\n",
      "memory usage: 1.4 MB\n"
     ]
    }
   ],
   "source": [
    "data_4 = data_scaled.interpolate(method ='linear', limit_direction ='backward')\n",
    "data_4.info()"
   ]
  },
  {
   "cell_type": "code",
   "execution_count": 21,
   "id": "a72947d5",
   "metadata": {},
   "outputs": [
    {
     "data": {
      "text/plain": [
       "0.6471911365756305"
      ]
     },
     "execution_count": 21,
     "metadata": {},
     "output_type": "execute_result"
    }
   ],
   "source": [
    "y=data_4['median_house_value']\n",
    "data_4.drop('median_house_value',axis=1,inplace=True)\n",
    "x=data_4\n",
    "X_train, X_test,y_train,y_test = train_test_split(data_4,y,test_size=0.3)\n",
    "lr=LinearRegression()\n",
    "lr.fit(X_train,y_train)\n",
    "y_pred=lr.predict(X_test)\n",
    "lr.score(X_test,y_test)"
   ]
  },
  {
   "cell_type": "code",
   "execution_count": 22,
   "id": "a46653c2",
   "metadata": {},
   "outputs": [],
   "source": [
    "# from sklearn.impute import KNNImputer\n",
    "# ix = [i for i in range(data_scaled) if i != 1500]\n",
    "# X, y = data[:, ix], data[:, 23]\n",
    "# print('Missing: %d' % sum(isnan(X).flatten()))\n",
    "# imputer = KNNImputer(n_neighbors=5, weights='uniform', metric='nan_euclidean')\n",
    "# imputer.fit(X)\n",
    "# Xtrans = imputer.transform(X)\n",
    "# print('Missing: %d' % sum(isnan(Xtrans).flatten()))"
   ]
  },
  {
   "cell_type": "markdown",
   "id": "95cb8462",
   "metadata": {},
   "source": [
    "# We will use mean method to fill the missing values as it is giving more accuracy"
   ]
  },
  {
   "cell_type": "code",
   "execution_count": 23,
   "id": "cb96f478",
   "metadata": {},
   "outputs": [
    {
     "name": "stdout",
     "output_type": "stream",
     "text": [
      "<class 'pandas.core.frame.DataFrame'>\n",
      "RangeIndex: 20640 entries, 0 to 20639\n",
      "Data columns (total 10 columns):\n",
      " #   Column              Non-Null Count  Dtype  \n",
      "---  ------              --------------  -----  \n",
      " 0   longitude           20640 non-null  float64\n",
      " 1   latitude            20640 non-null  float64\n",
      " 2   housing_median_age  20640 non-null  float64\n",
      " 3   total_rooms         20640 non-null  float64\n",
      " 4   total_bedrooms      20640 non-null  float64\n",
      " 5   population          20640 non-null  float64\n",
      " 6   households          20640 non-null  float64\n",
      " 7   median_income       20640 non-null  float64\n",
      " 8   median_house_value  20640 non-null  float64\n",
      " 9   ocean_proximity     20640 non-null  object \n",
      "dtypes: float64(9), object(1)\n",
      "memory usage: 1.6+ MB\n"
     ]
    }
   ],
   "source": [
    "data=data.fillna(data_scaled.mean(numeric_only=True))\n",
    "data.info()"
   ]
  },
  {
   "cell_type": "markdown",
   "id": "3039c245",
   "metadata": {},
   "source": [
    "# Handling categorical values"
   ]
  },
  {
   "cell_type": "code",
   "execution_count": 24,
   "id": "a3e17a4d",
   "metadata": {},
   "outputs": [
    {
     "data": {
      "text/plain": [
       "longitude             float64\n",
       "latitude              float64\n",
       "housing_median_age    float64\n",
       "total_rooms           float64\n",
       "total_bedrooms        float64\n",
       "population            float64\n",
       "households            float64\n",
       "median_income         float64\n",
       "median_house_value    float64\n",
       "ocean_proximity        object\n",
       "dtype: object"
      ]
     },
     "execution_count": 24,
     "metadata": {},
     "output_type": "execute_result"
    }
   ],
   "source": [
    "data.dtypes"
   ]
  },
  {
   "cell_type": "markdown",
   "id": "31b44757",
   "metadata": {},
   "source": [
    "Discrete variables are usually of the int type, continuous variables are usually of the float type, and categorical variables are usually of the object type when they're stored in pandas. However, discrete variables can also be cast as floats, while numerical variables can be cast as objects.\n",
    "ocean_proximity is the categorical value we got from the data set. so we use one-hot encoding method to convert catergorical values to numerical values."
   ]
  },
  {
   "cell_type": "code",
   "execution_count": 25,
   "id": "34c1240c",
   "metadata": {},
   "outputs": [
    {
     "data": {
      "text/plain": [
       "array(['NEAR BAY', '<1H OCEAN', 'INLAND', 'NEAR OCEAN', 'ISLAND'],\n",
       "      dtype=object)"
      ]
     },
     "execution_count": 25,
     "metadata": {},
     "output_type": "execute_result"
    }
   ],
   "source": [
    "data['ocean_proximity'].unique()"
   ]
  },
  {
   "cell_type": "code",
   "execution_count": 26,
   "id": "755ceafd",
   "metadata": {},
   "outputs": [
    {
     "data": {
      "text/plain": [
       "Index(['longitude', 'latitude', 'housing_median_age', 'total_rooms',\n",
       "       'total_bedrooms', 'population', 'households', 'median_income',\n",
       "       'median_house_value', 'ocean_proximity_INLAND',\n",
       "       'ocean_proximity_ISLAND', 'ocean_proximity_NEAR BAY',\n",
       "       'ocean_proximity_NEAR OCEAN'],\n",
       "      dtype='object')"
      ]
     },
     "execution_count": 26,
     "metadata": {},
     "output_type": "execute_result"
    }
   ],
   "source": [
    "data= pd.get_dummies(data, columns = [\"ocean_proximity\"], drop_first = True)\n",
    "data.columns"
   ]
  },
  {
   "cell_type": "code",
   "execution_count": 27,
   "id": "53906ffd",
   "metadata": {},
   "outputs": [
    {
     "data": {
      "text/plain": [
       "longitude                     float64\n",
       "latitude                      float64\n",
       "housing_median_age            float64\n",
       "total_rooms                   float64\n",
       "total_bedrooms                float64\n",
       "population                    float64\n",
       "households                    float64\n",
       "median_income                 float64\n",
       "median_house_value            float64\n",
       "ocean_proximity_INLAND          uint8\n",
       "ocean_proximity_ISLAND          uint8\n",
       "ocean_proximity_NEAR BAY        uint8\n",
       "ocean_proximity_NEAR OCEAN      uint8\n",
       "dtype: object"
      ]
     },
     "execution_count": 27,
     "metadata": {},
     "output_type": "execute_result"
    }
   ],
   "source": [
    "data.dtypes"
   ]
  },
  {
   "cell_type": "code",
   "execution_count": 28,
   "id": "9299175c",
   "metadata": {},
   "outputs": [
    {
     "data": {
      "text/html": [
       "<div>\n",
       "<style scoped>\n",
       "    .dataframe tbody tr th:only-of-type {\n",
       "        vertical-align: middle;\n",
       "    }\n",
       "\n",
       "    .dataframe tbody tr th {\n",
       "        vertical-align: top;\n",
       "    }\n",
       "\n",
       "    .dataframe thead th {\n",
       "        text-align: right;\n",
       "    }\n",
       "</style>\n",
       "<table border=\"1\" class=\"dataframe\">\n",
       "  <thead>\n",
       "    <tr style=\"text-align: right;\">\n",
       "      <th></th>\n",
       "      <th>longitude</th>\n",
       "      <th>latitude</th>\n",
       "      <th>housing_median_age</th>\n",
       "      <th>total_rooms</th>\n",
       "      <th>total_bedrooms</th>\n",
       "      <th>population</th>\n",
       "      <th>households</th>\n",
       "      <th>median_income</th>\n",
       "      <th>median_house_value</th>\n",
       "      <th>ocean_proximity_INLAND</th>\n",
       "      <th>ocean_proximity_ISLAND</th>\n",
       "      <th>ocean_proximity_NEAR BAY</th>\n",
       "      <th>ocean_proximity_NEAR OCEAN</th>\n",
       "    </tr>\n",
       "  </thead>\n",
       "  <tbody>\n",
       "    <tr>\n",
       "      <th>count</th>\n",
       "      <td>20640.000000</td>\n",
       "      <td>20640.000000</td>\n",
       "      <td>20640.000000</td>\n",
       "      <td>20640.000000</td>\n",
       "      <td>2.064000e+04</td>\n",
       "      <td>20640.000000</td>\n",
       "      <td>20640.000000</td>\n",
       "      <td>20640.000000</td>\n",
       "      <td>20640.000000</td>\n",
       "      <td>20640.000000</td>\n",
       "      <td>20640.000000</td>\n",
       "      <td>20640.000000</td>\n",
       "      <td>20640.000000</td>\n",
       "    </tr>\n",
       "    <tr>\n",
       "      <th>mean</th>\n",
       "      <td>-119.569704</td>\n",
       "      <td>35.631861</td>\n",
       "      <td>28.639486</td>\n",
       "      <td>2635.763081</td>\n",
       "      <td>5.324762e+02</td>\n",
       "      <td>1425.476744</td>\n",
       "      <td>499.539680</td>\n",
       "      <td>3.870671</td>\n",
       "      <td>206855.816909</td>\n",
       "      <td>0.317393</td>\n",
       "      <td>0.000242</td>\n",
       "      <td>0.110950</td>\n",
       "      <td>0.128779</td>\n",
       "    </tr>\n",
       "    <tr>\n",
       "      <th>std</th>\n",
       "      <td>2.003532</td>\n",
       "      <td>2.135952</td>\n",
       "      <td>12.585558</td>\n",
       "      <td>2181.615252</td>\n",
       "      <td>4.226783e+02</td>\n",
       "      <td>1132.462122</td>\n",
       "      <td>382.329753</td>\n",
       "      <td>1.899822</td>\n",
       "      <td>115395.615874</td>\n",
       "      <td>0.465473</td>\n",
       "      <td>0.015563</td>\n",
       "      <td>0.314077</td>\n",
       "      <td>0.334963</td>\n",
       "    </tr>\n",
       "    <tr>\n",
       "      <th>min</th>\n",
       "      <td>-124.350000</td>\n",
       "      <td>32.540000</td>\n",
       "      <td>1.000000</td>\n",
       "      <td>2.000000</td>\n",
       "      <td>2.035816e-16</td>\n",
       "      <td>3.000000</td>\n",
       "      <td>1.000000</td>\n",
       "      <td>0.499900</td>\n",
       "      <td>14999.000000</td>\n",
       "      <td>0.000000</td>\n",
       "      <td>0.000000</td>\n",
       "      <td>0.000000</td>\n",
       "      <td>0.000000</td>\n",
       "    </tr>\n",
       "    <tr>\n",
       "      <th>25%</th>\n",
       "      <td>-121.800000</td>\n",
       "      <td>33.930000</td>\n",
       "      <td>18.000000</td>\n",
       "      <td>1447.750000</td>\n",
       "      <td>2.920000e+02</td>\n",
       "      <td>787.000000</td>\n",
       "      <td>280.000000</td>\n",
       "      <td>2.563400</td>\n",
       "      <td>119600.000000</td>\n",
       "      <td>0.000000</td>\n",
       "      <td>0.000000</td>\n",
       "      <td>0.000000</td>\n",
       "      <td>0.000000</td>\n",
       "    </tr>\n",
       "    <tr>\n",
       "      <th>50%</th>\n",
       "      <td>-118.490000</td>\n",
       "      <td>34.260000</td>\n",
       "      <td>29.000000</td>\n",
       "      <td>2127.000000</td>\n",
       "      <td>4.310000e+02</td>\n",
       "      <td>1166.000000</td>\n",
       "      <td>409.000000</td>\n",
       "      <td>3.534800</td>\n",
       "      <td>179700.000000</td>\n",
       "      <td>0.000000</td>\n",
       "      <td>0.000000</td>\n",
       "      <td>0.000000</td>\n",
       "      <td>0.000000</td>\n",
       "    </tr>\n",
       "    <tr>\n",
       "      <th>75%</th>\n",
       "      <td>-118.010000</td>\n",
       "      <td>37.710000</td>\n",
       "      <td>37.000000</td>\n",
       "      <td>3148.000000</td>\n",
       "      <td>6.432500e+02</td>\n",
       "      <td>1725.000000</td>\n",
       "      <td>605.000000</td>\n",
       "      <td>4.743250</td>\n",
       "      <td>264725.000000</td>\n",
       "      <td>1.000000</td>\n",
       "      <td>0.000000</td>\n",
       "      <td>0.000000</td>\n",
       "      <td>0.000000</td>\n",
       "    </tr>\n",
       "    <tr>\n",
       "      <th>max</th>\n",
       "      <td>-114.310000</td>\n",
       "      <td>41.950000</td>\n",
       "      <td>52.000000</td>\n",
       "      <td>39320.000000</td>\n",
       "      <td>6.445000e+03</td>\n",
       "      <td>35682.000000</td>\n",
       "      <td>6082.000000</td>\n",
       "      <td>15.000100</td>\n",
       "      <td>500001.000000</td>\n",
       "      <td>1.000000</td>\n",
       "      <td>1.000000</td>\n",
       "      <td>1.000000</td>\n",
       "      <td>1.000000</td>\n",
       "    </tr>\n",
       "  </tbody>\n",
       "</table>\n",
       "</div>"
      ],
      "text/plain": [
       "          longitude      latitude  housing_median_age   total_rooms  \\\n",
       "count  20640.000000  20640.000000        20640.000000  20640.000000   \n",
       "mean    -119.569704     35.631861           28.639486   2635.763081   \n",
       "std        2.003532      2.135952           12.585558   2181.615252   \n",
       "min     -124.350000     32.540000            1.000000      2.000000   \n",
       "25%     -121.800000     33.930000           18.000000   1447.750000   \n",
       "50%     -118.490000     34.260000           29.000000   2127.000000   \n",
       "75%     -118.010000     37.710000           37.000000   3148.000000   \n",
       "max     -114.310000     41.950000           52.000000  39320.000000   \n",
       "\n",
       "       total_bedrooms    population    households  median_income  \\\n",
       "count    2.064000e+04  20640.000000  20640.000000   20640.000000   \n",
       "mean     5.324762e+02   1425.476744    499.539680       3.870671   \n",
       "std      4.226783e+02   1132.462122    382.329753       1.899822   \n",
       "min      2.035816e-16      3.000000      1.000000       0.499900   \n",
       "25%      2.920000e+02    787.000000    280.000000       2.563400   \n",
       "50%      4.310000e+02   1166.000000    409.000000       3.534800   \n",
       "75%      6.432500e+02   1725.000000    605.000000       4.743250   \n",
       "max      6.445000e+03  35682.000000   6082.000000      15.000100   \n",
       "\n",
       "       median_house_value  ocean_proximity_INLAND  ocean_proximity_ISLAND  \\\n",
       "count        20640.000000            20640.000000            20640.000000   \n",
       "mean        206855.816909                0.317393                0.000242   \n",
       "std         115395.615874                0.465473                0.015563   \n",
       "min          14999.000000                0.000000                0.000000   \n",
       "25%         119600.000000                0.000000                0.000000   \n",
       "50%         179700.000000                0.000000                0.000000   \n",
       "75%         264725.000000                1.000000                0.000000   \n",
       "max         500001.000000                1.000000                1.000000   \n",
       "\n",
       "       ocean_proximity_NEAR BAY  ocean_proximity_NEAR OCEAN  \n",
       "count              20640.000000                20640.000000  \n",
       "mean                   0.110950                    0.128779  \n",
       "std                    0.314077                    0.334963  \n",
       "min                    0.000000                    0.000000  \n",
       "25%                    0.000000                    0.000000  \n",
       "50%                    0.000000                    0.000000  \n",
       "75%                    0.000000                    0.000000  \n",
       "max                    1.000000                    1.000000  "
      ]
     },
     "execution_count": 28,
     "metadata": {},
     "output_type": "execute_result"
    }
   ],
   "source": [
    "data.describe()"
   ]
  },
  {
   "cell_type": "code",
   "execution_count": 29,
   "id": "eaeb890a",
   "metadata": {},
   "outputs": [],
   "source": [
    "#data_ohe1=data.join(pd.get_dummies(data.ocean_proximity)).drop(['ocean_proximity'],axis=1)\n",
    "#data_ohe1.columns\n",
    "# data_ohe = pd.get_dummies(data, columns = ['ocean_proximity'])\n",
    "# data_ohe.columns\n",
    "#data_ohe.dtypes"
   ]
  },
  {
   "cell_type": "markdown",
   "id": "056c0b30",
   "metadata": {},
   "source": [
    "# Data visualization "
   ]
  },
  {
   "cell_type": "markdown",
   "id": "740ea261",
   "metadata": {},
   "source": [
    "Ploting histogram to see distribution in our dataset"
   ]
  },
  {
   "cell_type": "code",
   "execution_count": 30,
   "id": "397b1f6e",
   "metadata": {},
   "outputs": [
    {
     "data": {
      "image/png": "[encoded data removed]",
      "text/plain": [
       "<Figure size 1080x1080 with 16 Axes>"
      ]
     },
     "metadata": {
      "needs_background": "light"
     },
     "output_type": "display_data"
    }
   ],
   "source": [
    "data.hist(bins=100,figsize=(15,15))\n",
    "plt.show()"
   ]
  },
  {
   "cell_type": "markdown",
   "id": "d4f0ebe7",
   "metadata": {},
   "source": [
    "Heatmap visualization"
   ]
  },
  {
   "cell_type": "code",
   "execution_count": 31,
   "id": "e10aa601",
   "metadata": {},
   "outputs": [
    {
     "data": {
      "text/plain": [
       "<AxesSubplot:>"
      ]
     },
     "execution_count": 31,
     "metadata": {},
     "output_type": "execute_result"
    },
    {
     "data": {
      "image/png": "[encoded data removed]",
      "text/plain": [
       "<Figure size 1080x576 with 1 Axes>"
      ]
     },
     "metadata": {
      "needs_background": "light"
     },
     "output_type": "display_data"
    }
   ],
   "source": [
    "corr_matrix=data.corr()\n",
    "plt.figure(1, figsize=(15,8))\n",
    "sns.heatmap(corr_matrix, cmap='BrBG', center=0, annot=True, cbar=False)"
   ]
  },
  {
   "cell_type": "code",
   "execution_count": 32,
   "id": "6179c6ee",
   "metadata": {},
   "outputs": [
    {
     "data": {
      "text/plain": [
       "median_house_value            1.000000\n",
       "median_income                 0.688075\n",
       "ocean_proximity_NEAR BAY      0.160284\n",
       "ocean_proximity_NEAR OCEAN    0.141862\n",
       "total_rooms                   0.134153\n",
       "housing_median_age            0.105623\n",
       "households                    0.065843\n",
       "total_bedrooms                0.049148\n",
       "ocean_proximity_ISLAND        0.023416\n",
       "population                   -0.024650\n",
       "longitude                    -0.045967\n",
       "latitude                     -0.144160\n",
       "ocean_proximity_INLAND       -0.484859\n",
       "Name: median_house_value, dtype: float64"
      ]
     },
     "execution_count": 32,
     "metadata": {},
     "output_type": "execute_result"
    }
   ],
   "source": [
    "# correlation\n",
    "data.corr()[\"median_house_value\"].sort_values(ascending = False)"
   ]
  },
  {
   "cell_type": "code",
   "execution_count": 33,
   "id": "ea55a3d3",
   "metadata": {},
   "outputs": [],
   "source": [
    "#boxplot for outliers\n",
    "# for i in data.columns:\n",
    "#     sns.boxplot(data[i])\n",
    "#     plt.title(i)\n",
    "#     plt.show()"
   ]
  },
  {
   "cell_type": "markdown",
   "id": "57a74654",
   "metadata": {},
   "source": [
    "Splitting the data into Dependent and Independent variable"
   ]
  },
  {
   "cell_type": "code",
   "execution_count": 34,
   "id": "dc469661",
   "metadata": {},
   "outputs": [],
   "source": [
    "y = data[[\"median_house_value\"]]\n",
    "X = data.drop([\"median_house_value\"], axis = 1)"
   ]
  },
  {
   "cell_type": "code",
   "execution_count": 35,
   "id": "780d0c71",
   "metadata": {},
   "outputs": [],
   "source": [
    "X_train, X_test, y_train, y_test = train_test_split(X,y, test_size = 0.25, random_state = 42)"
   ]
  },
  {
   "cell_type": "markdown",
   "id": "583d2256",
   "metadata": {},
   "source": [
    "Scaling the Data using MinMaxScaler"
   ]
  },
  {
   "cell_type": "code",
   "execution_count": 36,
   "id": "012851f5",
   "metadata": {},
   "outputs": [],
   "source": [
    "from sklearn.preprocessing import MinMaxScaler\n",
    "scaler_x = MinMaxScaler()\n",
    "scaler_y = MinMaxScaler()\n",
    "\n",
    "scaler_x.fit(X_train)\n",
    "X_train = scaler_x.transform(X_train)\n",
    "X_test = scaler_x.transform(X_test)\n",
    "\n",
    "scaler_y.fit(y_train)\n",
    "y_train = scaler_y.transform(y_train)\n",
    "y_test = scaler_y.transform(y_test)"
   ]
  },
  {
   "cell_type": "code",
   "execution_count": 37,
   "id": "e10c37c5",
   "metadata": {},
   "outputs": [],
   "source": [
    "# print(X_train,X_test)\n",
    "# print(y_train,y_test)"
   ]
  },
  {
   "cell_type": "markdown",
   "id": "bdb5ddc6",
   "metadata": {},
   "source": [
    "# Training the Data with Different Models"
   ]
  },
  {
   "cell_type": "markdown",
   "id": "98e7db53",
   "metadata": {},
   "source": [
    "# Model-1---- Linear Regression"
   ]
  },
  {
   "cell_type": "code",
   "execution_count": 38,
   "id": "da8f92c8",
   "metadata": {},
   "outputs": [
    {
     "name": "stdout",
     "output_type": "stream",
     "text": [
      "Linear Regression: MSE = 0.0209, R^2 score = 0.6283\n"
     ]
    }
   ],
   "source": [
    "from sklearn.linear_model import LinearRegression \n",
    "from sklearn.metrics import mean_squared_error, r2_score\n",
    "# Training an linear regression model\n",
    "lr = LinearRegression()\n",
    "lr.fit(X_train, y_train)\n",
    "y_pred = lr.predict(X_test)\n",
    "mse_lr = mean_squared_error(y_test, y_pred)\n",
    "r2_lr = r2_score(y_test, y_pred)\n",
    "# print(\": MSE = {:.4f}, R^2 score = {:.4f}\".format(mse, r2_score))\n",
    "print(\"Linear Regression: MSE = {:.4f}, R^2 score = {:.4f}\".format(mse_lr, r2_lr))"
   ]
  },
  {
   "cell_type": "markdown",
   "id": "1b4f1557",
   "metadata": {},
   "source": [
    "# Model-2---- Neural Network"
   ]
  },
  {
   "cell_type": "code",
   "execution_count": 39,
   "id": "e2b2b30c",
   "metadata": {},
   "outputs": [
    {
     "name": "stdout",
     "output_type": "stream",
     "text": [
      "Epoch 1/100\n",
      "484/484 [==============================] - 1s 2ms/step - loss: 0.0247 - accuracy: 0.0405\n",
      "Epoch 2/100\n",
      "484/484 [==============================] - 1s 2ms/step - loss: 0.0193 - accuracy: 0.0432\n",
      "Epoch 3/100\n",
      "484/484 [==============================] - 1s 2ms/step - loss: 0.0178 - accuracy: 0.0432\n",
      "Epoch 4/100\n",
      "484/484 [==============================] - 1s 2ms/step - loss: 0.0169 - accuracy: 0.0439\n",
      "Epoch 5/100\n",
      "484/484 [==============================] - 1s 2ms/step - loss: 0.0165 - accuracy: 0.0437\n",
      "Epoch 6/100\n",
      "484/484 [==============================] - 1s 2ms/step - loss: 0.0158 - accuracy: 0.0439\n",
      "Epoch 7/100\n",
      "484/484 [==============================] - 1s 2ms/step - loss: 0.0153 - accuracy: 0.0444\n",
      "Epoch 8/100\n",
      "484/484 [==============================] - 1s 2ms/step - loss: 0.0151 - accuracy: 0.0445\n",
      "Epoch 9/100\n",
      "484/484 [==============================] - 1s 2ms/step - loss: 0.0147 - accuracy: 0.0446\n",
      "Epoch 10/100\n",
      "484/484 [==============================] - 1s 2ms/step - loss: 0.0144 - accuracy: 0.0446\n",
      "Epoch 11/100\n",
      "484/484 [==============================] - 1s 2ms/step - loss: 0.0145 - accuracy: 0.0448\n",
      "Epoch 12/100\n",
      "484/484 [==============================] - 1s 2ms/step - loss: 0.0141 - accuracy: 0.0446\n",
      "Epoch 13/100\n",
      "484/484 [==============================] - 1s 2ms/step - loss: 0.0140 - accuracy: 0.0448\n",
      "Epoch 14/100\n",
      "484/484 [==============================] - 1s 2ms/step - loss: 0.0139 - accuracy: 0.0450\n",
      "Epoch 15/100\n",
      "484/484 [==============================] - 1s 2ms/step - loss: 0.0138 - accuracy: 0.0448\n",
      "Epoch 16/100\n",
      "484/484 [==============================] - 1s 2ms/step - loss: 0.0136 - accuracy: 0.0453\n",
      "Epoch 17/100\n",
      "484/484 [==============================] - 1s 2ms/step - loss: 0.0136 - accuracy: 0.0449\n",
      "Epoch 18/100\n",
      "484/484 [==============================] - 1s 2ms/step - loss: 0.0132 - accuracy: 0.0452\n",
      "Epoch 19/100\n",
      "484/484 [==============================] - 1s 2ms/step - loss: 0.0132 - accuracy: 0.0452\n",
      "Epoch 20/100\n",
      "484/484 [==============================] - 1s 2ms/step - loss: 0.0133 - accuracy: 0.0450\n",
      "Epoch 21/100\n",
      "484/484 [==============================] - 1s 2ms/step - loss: 0.0131 - accuracy: 0.0453\n",
      "Epoch 22/100\n",
      "484/484 [==============================] - 1s 2ms/step - loss: 0.0133 - accuracy: 0.0455\n",
      "Epoch 23/100\n",
      "484/484 [==============================] - 1s 2ms/step - loss: 0.0132 - accuracy: 0.0452\n",
      "Epoch 24/100\n",
      "484/484 [==============================] - 1s 2ms/step - loss: 0.0128 - accuracy: 0.0453\n",
      "Epoch 25/100\n",
      "484/484 [==============================] - 1s 2ms/step - loss: 0.0129 - accuracy: 0.0453\n",
      "Epoch 26/100\n",
      "484/484 [==============================] - 1s 2ms/step - loss: 0.0130 - accuracy: 0.0453\n",
      "Epoch 27/100\n",
      "484/484 [==============================] - 1s 2ms/step - loss: 0.0128 - accuracy: 0.0454\n",
      "Epoch 28/100\n",
      "484/484 [==============================] - 1s 2ms/step - loss: 0.0127 - accuracy: 0.0452\n",
      "Epoch 29/100\n",
      "484/484 [==============================] - 1s 2ms/step - loss: 0.0126 - accuracy: 0.0455\n",
      "Epoch 30/100\n",
      "484/484 [==============================] - 1s 2ms/step - loss: 0.0127 - accuracy: 0.0452\n",
      "Epoch 31/100\n",
      "484/484 [==============================] - 1s 2ms/step - loss: 0.0125 - accuracy: 0.0454\n",
      "Epoch 32/100\n",
      "484/484 [==============================] - 1s 2ms/step - loss: 0.0125 - accuracy: 0.0454\n",
      "Epoch 33/100\n",
      "484/484 [==============================] - 1s 2ms/step - loss: 0.0124 - accuracy: 0.0455\n",
      "Epoch 34/100\n",
      "484/484 [==============================] - 1s 2ms/step - loss: 0.0123 - accuracy: 0.0453\n",
      "Epoch 35/100\n",
      "484/484 [==============================] - 1s 2ms/step - loss: 0.0122 - accuracy: 0.0453\n",
      "Epoch 36/100\n",
      "484/484 [==============================] - 1s 2ms/step - loss: 0.0123 - accuracy: 0.0457\n",
      "Epoch 37/100\n",
      "484/484 [==============================] - 1s 2ms/step - loss: 0.0122 - accuracy: 0.0455\n",
      "Epoch 38/100\n",
      "484/484 [==============================] - 1s 2ms/step - loss: 0.0121 - accuracy: 0.0453\n",
      "Epoch 39/100\n",
      "484/484 [==============================] - 1s 2ms/step - loss: 0.0120 - accuracy: 0.0457\n",
      "Epoch 40/100\n",
      "484/484 [==============================] - 1s 2ms/step - loss: 0.0121 - accuracy: 0.0453\n",
      "Epoch 41/100\n",
      "484/484 [==============================] - 1s 2ms/step - loss: 0.0120 - accuracy: 0.0453\n",
      "Epoch 42/100\n",
      "484/484 [==============================] - 1s 2ms/step - loss: 0.0120 - accuracy: 0.0453\n",
      "Epoch 43/100\n",
      "484/484 [==============================] - 1s 2ms/step - loss: 0.0119 - accuracy: 0.0457\n",
      "Epoch 44/100\n",
      "484/484 [==============================] - 1s 2ms/step - loss: 0.0119 - accuracy: 0.0455\n",
      "Epoch 45/100\n",
      "484/484 [==============================] - 1s 2ms/step - loss: 0.0119 - accuracy: 0.0454\n",
      "Epoch 46/100\n",
      "484/484 [==============================] - 1s 2ms/step - loss: 0.0117 - accuracy: 0.0454\n",
      "Epoch 47/100\n",
      "484/484 [==============================] - 1s 2ms/step - loss: 0.0116 - accuracy: 0.0457\n",
      "Epoch 48/100\n",
      "484/484 [==============================] - 1s 2ms/step - loss: 0.0117 - accuracy: 0.0457\n",
      "Epoch 49/100\n",
      "484/484 [==============================] - 1s 2ms/step - loss: 0.0116 - accuracy: 0.0454\n",
      "Epoch 50/100\n",
      "484/484 [==============================] - 1s 2ms/step - loss: 0.0115 - accuracy: 0.0457\n",
      "Epoch 51/100\n",
      "484/484 [==============================] - 1s 2ms/step - loss: 0.0116 - accuracy: 0.0457\n",
      "Epoch 52/100\n",
      "484/484 [==============================] - 1s 2ms/step - loss: 0.0116 - accuracy: 0.0457\n",
      "Epoch 53/100\n",
      "484/484 [==============================] - 1s 2ms/step - loss: 0.0114 - accuracy: 0.0456\n",
      "Epoch 54/100\n",
      "484/484 [==============================] - 1s 2ms/step - loss: 0.0114 - accuracy: 0.0460\n",
      "Epoch 55/100\n",
      "484/484 [==============================] - 1s 2ms/step - loss: 0.0113 - accuracy: 0.0459\n",
      "Epoch 56/100\n",
      "484/484 [==============================] - 1s 2ms/step - loss: 0.0113 - accuracy: 0.0455\n",
      "Epoch 57/100\n",
      "484/484 [==============================] - 1s 2ms/step - loss: 0.0113 - accuracy: 0.0456\n",
      "Epoch 58/100\n",
      "484/484 [==============================] - 1s 2ms/step - loss: 0.0113 - accuracy: 0.0455\n",
      "Epoch 59/100\n",
      "484/484 [==============================] - 1s 2ms/step - loss: 0.0113 - accuracy: 0.0457\n",
      "Epoch 60/100\n",
      "484/484 [==============================] - 1s 2ms/step - loss: 0.0113 - accuracy: 0.0457\n",
      "Epoch 61/100\n",
      "484/484 [==============================] - 1s 2ms/step - loss: 0.0112 - accuracy: 0.0457\n",
      "Epoch 62/100\n",
      "484/484 [==============================] - 1s 2ms/step - loss: 0.0114 - accuracy: 0.0460\n",
      "Epoch 63/100\n",
      "484/484 [==============================] - 1s 2ms/step - loss: 0.0112 - accuracy: 0.0459\n",
      "Epoch 64/100\n",
      "484/484 [==============================] - 1s 2ms/step - loss: 0.0111 - accuracy: 0.0459\n",
      "Epoch 65/100\n",
      "484/484 [==============================] - 1s 2ms/step - loss: 0.0113 - accuracy: 0.0456\n",
      "Epoch 66/100\n",
      "484/484 [==============================] - 1s 2ms/step - loss: 0.0111 - accuracy: 0.0455\n",
      "Epoch 67/100\n",
      "484/484 [==============================] - 1s 2ms/step - loss: 0.0110 - accuracy: 0.0459\n",
      "Epoch 68/100\n",
      "484/484 [==============================] - 1s 2ms/step - loss: 0.0111 - accuracy: 0.0458\n",
      "Epoch 69/100\n",
      "484/484 [==============================] - 1s 2ms/step - loss: 0.0110 - accuracy: 0.0458\n",
      "Epoch 70/100\n",
      "484/484 [==============================] - 1s 2ms/step - loss: 0.0110 - accuracy: 0.0460\n",
      "Epoch 71/100\n",
      "484/484 [==============================] - 1s 2ms/step - loss: 0.0109 - accuracy: 0.0458\n",
      "Epoch 72/100\n",
      "484/484 [==============================] - 1s 2ms/step - loss: 0.0110 - accuracy: 0.0459\n",
      "Epoch 73/100\n",
      "484/484 [==============================] - 1s 2ms/step - loss: 0.0110 - accuracy: 0.0457\n",
      "Epoch 74/100\n",
      "484/484 [==============================] - 1s 2ms/step - loss: 0.0110 - accuracy: 0.0459\n",
      "Epoch 75/100\n",
      "484/484 [==============================] - 1s 2ms/step - loss: 0.0108 - accuracy: 0.0456\n",
      "Epoch 76/100\n",
      "484/484 [==============================] - 1s 2ms/step - loss: 0.0110 - accuracy: 0.0459\n",
      "Epoch 77/100\n",
      "484/484 [==============================] - 1s 2ms/step - loss: 0.0109 - accuracy: 0.0460\n",
      "Epoch 78/100\n",
      "484/484 [==============================] - 1s 2ms/step - loss: 0.0107 - accuracy: 0.0458\n",
      "Epoch 79/100\n",
      "484/484 [==============================] - 1s 2ms/step - loss: 0.0109 - accuracy: 0.0457\n",
      "Epoch 80/100\n",
      "484/484 [==============================] - 1s 2ms/step - loss: 0.0108 - accuracy: 0.0460\n",
      "Epoch 81/100\n",
      "484/484 [==============================] - 1s 2ms/step - loss: 0.0107 - accuracy: 0.0461\n",
      "Epoch 82/100\n",
      "484/484 [==============================] - 1s 2ms/step - loss: 0.0107 - accuracy: 0.0461\n",
      "Epoch 83/100\n",
      "484/484 [==============================] - 1s 2ms/step - loss: 0.0108 - accuracy: 0.0457\n",
      "Epoch 84/100\n",
      "484/484 [==============================] - 1s 2ms/step - loss: 0.0106 - accuracy: 0.0457\n",
      "Epoch 85/100\n",
      "484/484 [==============================] - 1s 2ms/step - loss: 0.0106 - accuracy: 0.0457\n",
      "Epoch 86/100\n",
      "484/484 [==============================] - 1s 2ms/step - loss: 0.0105 - accuracy: 0.0461\n",
      "Epoch 87/100\n",
      "484/484 [==============================] - 1s 2ms/step - loss: 0.0106 - accuracy: 0.0460\n",
      "Epoch 88/100\n",
      "484/484 [==============================] - 1s 2ms/step - loss: 0.0106 - accuracy: 0.0458\n",
      "Epoch 89/100\n",
      "484/484 [==============================] - 1s 2ms/step - loss: 0.0106 - accuracy: 0.0461\n",
      "Epoch 90/100\n",
      "484/484 [==============================] - 1s 2ms/step - loss: 0.0106 - accuracy: 0.0461\n",
      "Epoch 91/100\n",
      "484/484 [==============================] - 1s 2ms/step - loss: 0.0105 - accuracy: 0.0463\n",
      "Epoch 92/100\n",
      "484/484 [==============================] - 1s 2ms/step - loss: 0.0104 - accuracy: 0.0461\n",
      "Epoch 93/100\n",
      "484/484 [==============================] - 1s 2ms/step - loss: 0.0106 - accuracy: 0.0461\n",
      "Epoch 94/100\n",
      "484/484 [==============================] - 1s 2ms/step - loss: 0.0105 - accuracy: 0.0459\n",
      "Epoch 95/100\n",
      "484/484 [==============================] - 1s 2ms/step - loss: 0.0105 - accuracy: 0.0461\n",
      "Epoch 96/100\n",
      "484/484 [==============================] - 1s 2ms/step - loss: 0.0104 - accuracy: 0.0461\n",
      "Epoch 97/100\n",
      "484/484 [==============================] - 1s 2ms/step - loss: 0.0105 - accuracy: 0.0464\n",
      "Epoch 98/100\n",
      "484/484 [==============================] - 1s 2ms/step - loss: 0.0103 - accuracy: 0.0461\n",
      "Epoch 99/100\n",
      "484/484 [==============================] - 1s 2ms/step - loss: 0.0106 - accuracy: 0.0459\n",
      "Epoch 100/100\n",
      "484/484 [==============================] - 1s 2ms/step - loss: 0.0104 - accuracy: 0.0461\n",
      "Neural Network: MSE = 0.0131, R^2 score = 0.7667\n"
     ]
    }
   ],
   "source": [
    "from sklearn.metrics import mean_squared_error, r2_score\n",
    "import keras\n",
    "from keras.models import Sequential\n",
    "from keras.layers import Dense\n",
    "# Training an neural network model\n",
    "def build_nn():\n",
    "    model = Sequential()\n",
    "    model.add(Dense(100, input_shape=(X_train.shape[1],), activation=\"relu\"))\n",
    "    model.add(Dense(50, activation=\"relu\"))\n",
    "    model.add(Dense(1, activation=\"linear\"))\n",
    "    model.compile(loss = \"mean_squared_error\", optimizer = \"adam\", metrics = [\"accuracy\"])\n",
    "    return model\n",
    "nn=build_nn()\n",
    "nn.fit(X_train, y_train, epochs=100)\n",
    "y_pred = nn.predict(X_test)\n",
    "mse_nn = mean_squared_error(y_test, y_pred)\n",
    "r2_nn = r2_score(y_test, y_pred)\n",
    "print(\"Neural Network: MSE = {:.4f}, R^2 score = {:.4f}\".format(mse_nn, r2_nn))"
   ]
  },
  {
   "cell_type": "markdown",
   "id": "7325a890",
   "metadata": {},
   "source": [
    "# Model-3---- Decision Tree"
   ]
  },
  {
   "cell_type": "code",
   "execution_count": 40,
   "id": "625bd4e7",
   "metadata": {},
   "outputs": [
    {
     "name": "stdout",
     "output_type": "stream",
     "text": [
      "Decision Tree: MSE = 0.0203, R^2 score = 0.6393\n"
     ]
    }
   ],
   "source": [
    "from sklearn.tree import DecisionTreeRegressor\n",
    "from sklearn.metrics import mean_squared_error, r2_score\n",
    "# Training an Decision Tree model\n",
    "dtr = DecisionTreeRegressor(random_state=42)\n",
    "dtr.fit(X_train, y_train)\n",
    "y_pred = dtr.predict(X_test)\n",
    "mse_dtr = mean_squared_error(y_test, y_pred)\n",
    "r2_dtr = r2_score(y_test, y_pred)\n",
    "print(\"Decision Tree: MSE = {:.4f}, R^2 score = {:.4f}\".format(mse_dtr, r2_dtr))"
   ]
  },
  {
   "cell_type": "markdown",
   "id": "3cedbf4e",
   "metadata": {},
   "source": [
    "# Model-4---- Random Forest"
   ]
  },
  {
   "cell_type": "code",
   "execution_count": 41,
   "id": "bad47c53",
   "metadata": {},
   "outputs": [
    {
     "name": "stderr",
     "output_type": "stream",
     "text": [
      "C:\\Users\\nsg\\AppData\\Local\\Temp/ipykernel_14296/1597229737.py:5: DataConversionWarning: A column-vector y was passed when a 1d array was expected. Please change the shape of y to (n_samples,), for example using ravel().\n",
      "  rfr.fit(X_train, y_train)\n"
     ]
    },
    {
     "name": "stdout",
     "output_type": "stream",
     "text": [
      "Decision Tree: MSE = 0.0104, R^2 score = 0.8152\n"
     ]
    }
   ],
   "source": [
    "from sklearn.ensemble import RandomForestRegressor\n",
    "from sklearn.metrics import mean_squared_error, r2_score\n",
    "# Training an Random Forest model\n",
    "rfr = RandomForestRegressor(random_state=42)\n",
    "rfr.fit(X_train, y_train)\n",
    "y_pred = rfr.predict(X_test)\n",
    "mse_rfr = mean_squared_error(y_test, y_pred)\n",
    "r2_rfr = r2_score(y_test, y_pred)\n",
    "print(\"Decision Tree: MSE = {:.4f}, R^2 score = {:.4f}\".format(mse_rfr, r2_rfr))"
   ]
  },
  {
   "cell_type": "code",
   "execution_count": 42,
   "id": "ec113e88",
   "metadata": {},
   "outputs": [],
   "source": [
    "# from sklearn.feature_selection import SelectFromModel\n",
    "\n",
    "# # Select best features\n",
    "# selector = SelectFromModel(estimator=RandomForestRegressor()).fit(X_train, y_train)\n",
    "# # selector = SelectFromModel(estimator=RandomForestRegressor())\n",
    "# # selector.fit(X_train, y_train)\n",
    "# selected_features=selector.transform(X_train)\n",
    "# print(selected_features)\n",
    "\n",
    "# rf_best = RandomForestRegressor()\n",
    "# rf_best.fit(X_train[selected_features], y_train)\n",
    "# rf_best.score(X_test[selected_features], y_test)\n",
    "\n",
    "# Get selected feature indices\n",
    "# selected_features = X_train[selector.get_support()]\n",
    "\n",
    "# # Train model with selected features\n",
    "# rf_best = RandomForestRegressor()\n",
    "# rf_best.fit(X_train[selected_features], y_train)\n",
    "\n",
    "# rf_best.score(X_test[selected_features], y_test)\n",
    "\n",
    "# print(\"Random Forest Model with best features\", rf_best.score(X_test[selected_features], y_test))"
   ]
  },
  {
   "cell_type": "markdown",
   "id": "3125e001",
   "metadata": {},
   "source": [
    "# Model-5---- XG Boost "
   ]
  },
  {
   "cell_type": "code",
   "execution_count": 43,
   "id": "39873415",
   "metadata": {},
   "outputs": [
    {
     "name": "stdout",
     "output_type": "stream",
     "text": [
      "XGBoost model: MSE = 0.0108, R^2 score = 0.8080\n"
     ]
    }
   ],
   "source": [
    "from xgboost import XGBRegressor\n",
    "from sklearn.metrics import mean_squared_error, r2_score\n",
    "\n",
    "# Training an XGBoost model\n",
    "xgb_model = XGBRegressor()\n",
    "xgb_model.fit(X_train, y_train)\n",
    "y_pred = xgb_model.predict(X_test)\n",
    "mse_xgb = mean_squared_error(y_test, y_pred)\n",
    "r2_xgb = r2_score(y_test, y_pred)\n",
    "print(\"XGBoost model: MSE = {:.4f}, R^2 score = {:.4f}\".format(mse_xgb, r2_xgb))"
   ]
  },
  {
   "cell_type": "markdown",
   "id": "119461b3",
   "metadata": {},
   "source": [
    "# Comparison of Accuracies betweem different models"
   ]
  },
  {
   "cell_type": "code",
   "execution_count": 56,
   "id": "d90248e5",
   "metadata": {},
   "outputs": [],
   "source": [
    "models_results=[]\n",
    "models_results.append([\"Linear Regression\",r2_lr,mse_lr])\n",
    "models_results.append([\"Neural network\",r2_nn,mse_nn])\n",
    "models_results.append([\"Decision Tree\",r2_dtr,mse_dtr])\n",
    "models_results.append([\"Random Forest\",r2_rfr,mse_rfr])\n",
    "models_results.append([\"XG Boost\",r2_xgb,mse_xgb])"
   ]
  },
  {
   "cell_type": "code",
   "execution_count": 57,
   "id": "2901d516",
   "metadata": {},
   "outputs": [
    {
     "data": {
      "text/html": [
       "<div>\n",
       "<style scoped>\n",
       "    .dataframe tbody tr th:only-of-type {\n",
       "        vertical-align: middle;\n",
       "    }\n",
       "\n",
       "    .dataframe tbody tr th {\n",
       "        vertical-align: top;\n",
       "    }\n",
       "\n",
       "    .dataframe thead th {\n",
       "        text-align: right;\n",
       "    }\n",
       "</style>\n",
       "<table border=\"1\" class=\"dataframe\">\n",
       "  <thead>\n",
       "    <tr style=\"text-align: right;\">\n",
       "      <th></th>\n",
       "      <th>model</th>\n",
       "      <th>r2_score</th>\n",
       "      <th>mse</th>\n",
       "    </tr>\n",
       "  </thead>\n",
       "  <tbody>\n",
       "    <tr>\n",
       "      <th>3</th>\n",
       "      <td>Random Forest</td>\n",
       "      <td>0.815212</td>\n",
       "      <td>0.010395</td>\n",
       "    </tr>\n",
       "    <tr>\n",
       "      <th>4</th>\n",
       "      <td>XG Boost</td>\n",
       "      <td>0.807955</td>\n",
       "      <td>0.010803</td>\n",
       "    </tr>\n",
       "    <tr>\n",
       "      <th>1</th>\n",
       "      <td>Neural network</td>\n",
       "      <td>0.766743</td>\n",
       "      <td>0.013121</td>\n",
       "    </tr>\n",
       "    <tr>\n",
       "      <th>2</th>\n",
       "      <td>Decision Tree</td>\n",
       "      <td>0.639257</td>\n",
       "      <td>0.020293</td>\n",
       "    </tr>\n",
       "    <tr>\n",
       "      <th>0</th>\n",
       "      <td>Linear Regression</td>\n",
       "      <td>0.628297</td>\n",
       "      <td>0.020909</td>\n",
       "    </tr>\n",
       "  </tbody>\n",
       "</table>\n",
       "</div>"
      ],
      "text/plain": [
       "               model  r2_score       mse\n",
       "3      Random Forest  0.815212  0.010395\n",
       "4           XG Boost  0.807955  0.010803\n",
       "1     Neural network  0.766743  0.013121\n",
       "2      Decision Tree  0.639257  0.020293\n",
       "0  Linear Regression  0.628297  0.020909"
      ]
     },
     "execution_count": 57,
     "metadata": {},
     "output_type": "execute_result"
    }
   ],
   "source": [
    "models=pd.DataFrame(models_results,columns=[\"model\",\"r2_score\",\"mse\"])\n",
    "models=models.sort_values([\"r2_score\"],ascending=False)\n",
    "models"
   ]
  },
  {
   "cell_type": "markdown",
   "id": "4ebc4d79",
   "metadata": {},
   "source": [
    "After comparing the accuracies of the different models. From the provided results, we can see that the r2_score of the different models vary:\n",
    "\n",
    "The linear regression model has the lowest accuracy (0.628297), while the XGBoost model and the random forest model have the highest accuracies (0.8079 and 0.8152, respectively).\n",
    "\n",
    "Neural network model has the relatively average accuracy of all models with 0.7667.\n",
    "\n",
    "It is worth noting that the decision tree model has a low R^2 score of 0.6392, which indicates that it may not be as accurate as the other models. However, the mean squared error (MSE) of the decision tree model is not directly comparable to the R^2 scores of the other models, since it is a different metric.\n",
    "\n",
    "Overall, the results suggest that the XGBoost and random forest models may be the most accurate models for predicting the target variable in this dataset."
   ]
  },
  {
   "cell_type": "code",
   "execution_count": null,
   "id": "2c10da3b",
   "metadata": {},
   "outputs": [],
   "source": []
  }
 ],
 "metadata": {
  "kernelspec": {
   "display_name": "Python 3 (ipykernel)",
   "language": "python",
   "name": "python3"
  },
  "language_info": {
   "codemirror_mode": {
    "name": "ipython",
    "version": 3
   },
   "file_extension": ".py",
   "mimetype": "text/x-python",
   "name": "python",
   "nbconvert_exporter": "python",
   "pygments_lexer": "ipython3",
   "version": "3.9.7"
  }
 },
 "nbformat": 4,
 "nbformat_minor": 5
}
